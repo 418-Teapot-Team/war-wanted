{
 "cells": [
  {
   "cell_type": "code",
   "execution_count": 7,
   "metadata": {},
   "outputs": [
    {
     "name": "stderr",
     "output_type": "stream",
     "text": [
      "c:\\Users\\Tymof\\OneDrive\\Desktop\\education\\Practice\\Hackaton_BEST_Competition\\ai\\.venv\\Lib\\site-packages\\tqdm\\auto.py:21: TqdmWarning: IProgress not found. Please update jupyter and ipywidgets. See https://ipywidgets.readthedocs.io/en/stable/user_install.html\n",
      "  from .autonotebook import tqdm as notebook_tqdm\n",
      "c:\\Users\\Tymof\\OneDrive\\Desktop\\education\\Practice\\Hackaton_BEST_Competition\\ai\\.venv\\Lib\\site-packages\\huggingface_hub\\file_download.py:1132: FutureWarning: `resume_download` is deprecated and will be removed in version 1.0.0. Downloads always resume when possible. If you want to force a new download, use `force_download=True`.\n",
      "  warnings.warn(\n",
      "c:\\Users\\Tymof\\OneDrive\\Desktop\\education\\Practice\\Hackaton_BEST_Competition\\ai\\.venv\\Lib\\site-packages\\huggingface_hub\\file_download.py:157: UserWarning: `huggingface_hub` cache-system uses symlinks by default to efficiently store duplicated files but your machine does not support them in C:\\Users\\Tymof\\.cache\\huggingface\\hub\\models--bert-base-uncased. Caching files will still work but in a degraded version that might require more space on your disk. This warning can be disabled by setting the `HF_HUB_DISABLE_SYMLINKS_WARNING` environment variable. For more details, see https://huggingface.co/docs/huggingface_hub/how-to-cache#limitations.\n",
      "To support symlinks on Windows, you either need to activate Developer Mode or to run Python as an administrator. In order to see activate developer mode, see this article: https://docs.microsoft.com/en-us/windows/apps/get-started/enable-your-device-for-development\n",
      "  warnings.warn(message)\n"
     ]
    },
    {
     "name": "stdout",
     "output_type": "stream",
     "text": [
      "Distance between 'machine' and 'deep': 0.1925025646638001\n",
      "Distance between 'machine' and 'learning': 0.16316821899845546\n",
      "Distance between 'deep' and 'learning': 0.13643737072491835\n"
     ]
    }
   ],
   "source": [
    "import torch\n",
    "from transformers import BertTokenizer, BertModel\n",
    "from scipy.spatial.distance import cosine\n",
    "\n",
    "tokenizer = BertTokenizer.from_pretrained('bert-base-uncased')\n",
    "model = BertModel.from_pretrained('bert-base-uncased')\n",
    "word1 = \"machine\"\n",
    "word2 = \"deep\"\n",
    "word3 = \"learning\"\n",
    "\n",
    "word1_tokens = tokenizer(word1, return_tensors='pt')\n",
    "word2_tokens = tokenizer(word2, return_tensors='pt')\n",
    "word3_tokens = tokenizer(word3, return_tensors='pt')\n",
    "\n",
    "# Get BERT embeddings\n",
    "with torch.no_grad():\n",
    "    word1_outputs = model(**word1_tokens)\n",
    "    word2_outputs = model(**word2_tokens)\n",
    "    word3_outputs = model(**word3_tokens)\n",
    "\n",
    "# Extract the embeddings\n",
    "word1_embedding = word1_outputs.last_hidden_state.mean(dim=1).squeeze().numpy()\n",
    "word2_embedding = word2_outputs.last_hidden_state.mean(dim=1).squeeze().numpy()\n",
    "word3_embedding = word3_outputs.last_hidden_state.mean(dim=1).squeeze().numpy()\n",
    "\n",
    "# Compute distances\n",
    "distance_word1_word2 = cosine(word1_embedding, word2_embedding)\n",
    "distance_word1_word3 = cosine(word1_embedding, word3_embedding)\n",
    "distance_word2_word3 = cosine(word2_embedding, word3_embedding)\n",
    "\n",
    "print(f\"Distance between '{word1}' and '{word2}': {distance_word1_word2}\")\n",
    "print(f\"Distance between '{word1}' and '{word3}': {distance_word1_word3}\")\n",
    "print(f\"Distance between '{word2}' and '{word3}': {distance_word2_word3}\")\n",
    "\n"
   ]
  }
 ],
 "metadata": {
  "kernelspec": {
   "display_name": "Python 3",
   "language": "python",
   "name": "python3"
  },
  "language_info": {
   "codemirror_mode": {
    "name": "ipython",
    "version": 3
   },
   "file_extension": ".py",
   "mimetype": "text/x-python",
   "name": "python",
   "nbconvert_exporter": "python",
   "pygments_lexer": "ipython3",
   "version": "3.11.4"
  }
 },
 "nbformat": 4,
 "nbformat_minor": 2
}
